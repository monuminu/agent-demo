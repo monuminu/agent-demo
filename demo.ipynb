{
 "cells": [
  {
   "cell_type": "code",
   "execution_count": 10,
   "id": "ccb83b03-cb6c-4e7b-85f4-09a39bde8038",
   "metadata": {},
   "outputs": [
    {
     "data": {
      "text/plain": [
       "True"
      ]
     },
     "execution_count": 10,
     "metadata": {},
     "output_type": "execute_result"
    }
   ],
   "source": [
    "from dotenv import load_dotenv\n",
    "load_dotenv('azure.env', override=True)"
   ]
  },
  {
   "cell_type": "code",
   "execution_count": 11,
   "id": "ca33b42d-d8da-4b76-bf98-56dc8265ee2e",
   "metadata": {},
   "outputs": [
    {
     "data": {
      "text/plain": [
       "'swedencentral.api.azureml.ms;f17b9f1d-4088-479a-acb6-6dbf870ca4dc;openai-sweden;mrajguru-4522'"
      ]
     },
     "execution_count": 11,
     "metadata": {},
     "output_type": "execute_result"
    }
   ],
   "source": [
    "os.environ[\"PROJECT_CONNECTION_STRING\"]"
   ]
  },
  {
   "cell_type": "code",
   "execution_count": 12,
   "id": "0294d6fc-9151-407e-8f59-eff76a6a06ad",
   "metadata": {},
   "outputs": [
    {
     "data": {
      "text/plain": [
       "'gpt-4o-sweden'"
      ]
     },
     "execution_count": 12,
     "metadata": {},
     "output_type": "execute_result"
    }
   ],
   "source": [
    "os.environ[\"MODEL_DEPLOYMENT_NAME\"]"
   ]
  },
  {
   "cell_type": "code",
   "execution_count": 13,
   "id": "307be614-b6a9-4cea-be6e-9fa36f81d35c",
   "metadata": {},
   "outputs": [],
   "source": [
    "import os\n",
    "from azure.ai.projects import AIProjectClient\n",
    "from azure.identity import DefaultAzureCredential\n",
    "from azure.ai.projects.models import (\n",
    "    AgentEventHandler,\n",
    "    MessageDeltaChunk,\n",
    "    ThreadMessage,\n",
    "    ThreadRun,\n",
    "    RunStep,\n",
    ")\n",
    "from typing import Any\n",
    "from opentelemetry import trace\n",
    "from azure.monitor.opentelemetry import configure_azure_monitor\n",
    "\n",
    "project_client = AIProjectClient.from_connection_string(\n",
    "    credential=DefaultAzureCredential(),\n",
    "    conn_str=os.environ[\"PROJECT_CONNECTION_STRING\"],\n",
    ")"
   ]
  },
  {
   "cell_type": "code",
   "execution_count": 14,
   "id": "d80716bb-f474-425a-8ed6-764ab7cdd9cc",
   "metadata": {},
   "outputs": [
    {
     "name": "stdout",
     "output_type": "stream",
     "text": [
      "Created agent, agent ID asst_4ARwRR5SDmeLL6pwPoGHAUyz\n",
      "Created thread, thread ID thread_5KHMsVZxk72kGwd9kYWTRllZ\n",
      "Created message, message ID msg_hBswuzYHwevZq2QmmIIHTiOI\n",
      "ThreadRun status: RunStatus.QUEUED\n",
      "ThreadRun status: RunStatus.QUEUED\n",
      "ThreadRun status: RunStatus.IN_PROGRESS\n",
      "RunStep type: RunStepType.MESSAGE_CREATION, Status: RunStepStatus.IN_PROGRESS\n",
      "RunStep type: RunStepType.MESSAGE_CREATION, Status: RunStepStatus.IN_PROGRESS\n",
      "ThreadMessage created. ID: msg_1xB5IR4eUUEUkc23oOLOEESB, Status: MessageStatus.IN_PROGRESS\n",
      "ThreadMessage created. ID: msg_1xB5IR4eUUEUkc23oOLOEESB, Status: MessageStatus.IN_PROGRESS\n",
      "Text delta received: Sure\n",
      "Text delta received: !\n",
      "Text delta received:  Here's\n",
      "Text delta received:  a\n",
      "Text delta received:  joke\n",
      "Text delta received:  for\n",
      "Text delta received:  you\n",
      "Text delta received: :\n",
      "\n",
      "\n",
      "Text delta received: Why\n",
      "Text delta received:  can't\n",
      "Text delta received:  you\n",
      "Text delta received:  give\n",
      "Text delta received:  Elsa\n",
      "Text delta received:  a\n",
      "Text delta received:  balloon\n",
      "Text delta received: ?\n",
      "Text delta received:   \n",
      "\n",
      "\n",
      "Text delta received: Because\n",
      "Text delta received:  she\n",
      "Text delta received: ’ll\n",
      "Text delta received:  “\n",
      "Text delta received: let\n",
      "Text delta received:  it\n",
      "Text delta received:  go\n",
      "Text delta received: ”!\n",
      "Text delta received:  🎈\n",
      "Text delta received: 😄\n",
      "ThreadMessage created. ID: msg_1xB5IR4eUUEUkc23oOLOEESB, Status: MessageStatus.COMPLETED, Content: {'type': 'text', 'text': {'value': \"Sure! Here's a joke for you:\\n\\nWhy can't you give Elsa a balloon?  \\n\\nBecause she’ll “let it go”! 🎈😄\", 'annotations': []}}\n",
      "RunStep type: RunStepType.MESSAGE_CREATION, Status: RunStepStatus.COMPLETED\n",
      "ThreadRun status: RunStatus.COMPLETED\n",
      "Stream completed.\n",
      "Deleted agent\n",
      "Messages: {'object': 'list', 'data': [{'id': 'msg_1xB5IR4eUUEUkc23oOLOEESB', 'object': 'thread.message', 'created_at': 1742907152, 'assistant_id': 'asst_4ARwRR5SDmeLL6pwPoGHAUyz', 'thread_id': 'thread_5KHMsVZxk72kGwd9kYWTRllZ', 'run_id': 'run_5uF8eDAyLxqLPv46892hxers', 'role': 'assistant', 'content': [{'type': 'text', 'text': {'value': \"Sure! Here's a joke for you:\\n\\nWhy can't you give Elsa a balloon?  \\n\\nBecause she’ll “let it go”! 🎈😄\", 'annotations': []}}], 'attachments': [], 'metadata': {}}, {'id': 'msg_hBswuzYHwevZq2QmmIIHTiOI', 'object': 'thread.message', 'created_at': 1742907149, 'assistant_id': None, 'thread_id': 'thread_5KHMsVZxk72kGwd9kYWTRllZ', 'run_id': None, 'role': 'user', 'content': [{'type': 'text', 'text': {'value': 'Hello, tell me a joke', 'annotations': []}}], 'attachments': [], 'metadata': {}}], 'first_id': 'msg_1xB5IR4eUUEUkc23oOLOEESB', 'last_id': 'msg_hBswuzYHwevZq2QmmIIHTiOI', 'has_more': False}\n"
     ]
    }
   ],
   "source": [
    "\n",
    "\n",
    "\n",
    "class MyEventHandler(AgentEventHandler):\n",
    "    def on_message_delta(self, delta: \"MessageDeltaChunk\") -> None:\n",
    "        print(f\"Text delta received: {delta.text}\")\n",
    "\n",
    "    def on_thread_message(self, message: \"ThreadMessage\") -> None:\n",
    "        if len(message.content):\n",
    "            print(\n",
    "                f\"ThreadMessage created. ID: {message.id}, \"\n",
    "                f\"Status: {message.status}, Content: {message.content[0].as_dict()}\"\n",
    "            )\n",
    "        else:\n",
    "            print(f\"ThreadMessage created. ID: {message.id}, \" f\"Status: {message.status}\")\n",
    "\n",
    "    def on_thread_run(self, run: \"ThreadRun\") -> None:\n",
    "        print(f\"ThreadRun status: {run.status}\")\n",
    "\n",
    "    def on_run_step(self, step: \"RunStep\") -> None:\n",
    "        print(f\"RunStep type: {step.type}, Status: {step.status}\")\n",
    "\n",
    "    def on_error(self, data: str) -> None:\n",
    "        print(f\"An error occurred. Data: {data}\")\n",
    "\n",
    "    def on_done(self) -> None:\n",
    "        print(\"Stream completed.\")\n",
    "\n",
    "    def on_unhandled_event(self, event_type: str, event_data: Any) -> None:\n",
    "        print(f\"Unhandled Event Type: {event_type}, Data: {event_data}\")\n",
    "\n",
    "\n",
    "# Enable Azure Monitor tracing\n",
    "application_insights_connection_string = project_client.telemetry.get_connection_string()\n",
    "if not application_insights_connection_string:\n",
    "    print(\"Application Insights was not enabled for this project.\")\n",
    "    print(\"Enable it via the 'Tracing' tab in your AI Foundry project page.\")\n",
    "    exit()\n",
    "configure_azure_monitor(connection_string=application_insights_connection_string)\n",
    "\n",
    "scenario = \"tracing\"\n",
    "tracer = trace.get_tracer(__name__)\n",
    "\n",
    "# enable additional instrumentations\n",
    "project_client.telemetry.enable()\n",
    "\n",
    "with tracer.start_as_current_span(scenario):\n",
    "    with project_client:\n",
    "        # Create an agent and run stream with event handler\n",
    "        agent = project_client.agents.create_agent(\n",
    "            model=os.environ[\"MODEL_DEPLOYMENT_NAME\"], name=\"my-assistant\", instructions=\"You are a helpful assistant\"\n",
    "        )\n",
    "        print(f\"Created agent, agent ID {agent.id}\")\n",
    "\n",
    "        thread = project_client.agents.create_thread()\n",
    "        print(f\"Created thread, thread ID {thread.id}\")\n",
    "\n",
    "        message = project_client.agents.create_message(\n",
    "            thread_id=thread.id, role=\"user\", content=\"Hello, tell me a joke\"\n",
    "        )\n",
    "        print(f\"Created message, message ID {message.id}\")\n",
    "\n",
    "        with project_client.agents.create_stream(\n",
    "            thread_id=thread.id, agent_id=agent.id, event_handler=MyEventHandler()\n",
    "        ) as stream:\n",
    "            stream.until_done()\n",
    "\n",
    "        project_client.agents.delete_agent(agent.id)\n",
    "        print(\"Deleted agent\")\n",
    "\n",
    "        messages = project_client.agents.list_messages(thread_id=thread.id)\n",
    "        print(f\"Messages: {messages}\")"
   ]
  },
  {
   "cell_type": "code",
   "execution_count": null,
   "id": "9484a785-c2c4-40b4-9486-7ea4e54ba26d",
   "metadata": {},
   "outputs": [],
   "source": []
  }
 ],
 "metadata": {
  "kernelspec": {
   "display_name": "Python 3 (ipykernel)",
   "language": "python",
   "name": "python3"
  },
  "language_info": {
   "codemirror_mode": {
    "name": "ipython",
    "version": 3
   },
   "file_extension": ".py",
   "mimetype": "text/x-python",
   "name": "python",
   "nbconvert_exporter": "python",
   "pygments_lexer": "ipython3",
   "version": "3.13.2"
  }
 },
 "nbformat": 4,
 "nbformat_minor": 5
}
